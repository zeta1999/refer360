{
 "cells": [
  {
   "cell_type": "code",
   "execution_count": 1,
   "metadata": {},
   "outputs": [],
   "source": [
    "import numpy as np\n",
    "import json\n",
    "from pprint import pprint\n",
    "\n",
    "from collections import defaultdict\n",
    "import operator\n",
    "\n",
    "import matplotlib.pyplot as plt; plt.rcdefaults()\n",
    "\n",
    "\n",
    "import seaborn as sns\n",
    "\n",
    "import sys\n",
    "sys.path.append('/projects2/refer360_simulator/src')\n",
    "import os\n",
    "from tqdm import tqdm"
   ]
  },
  {
   "cell_type": "code",
   "execution_count": 2,
   "metadata": {},
   "outputs": [],
   "source": [
    "data = json.load(open('../../data/train.json'))"
   ]
  },
  {
   "cell_type": "code",
   "execution_count": null,
   "metadata": {},
   "outputs": [],
   "source": [
    "def rad2degree(lat, lng):\n",
    "  lng = np.degrees(lng + 0.1)\n",
    "  lat = np.degrees(lat - 0.015)\n",
    "  if lat > 180:\n",
    "    lat = lat - 360\n",
    "  return lat, lng   "
   ]
  },
  {
   "cell_type": "code",
   "execution_count": null,
   "metadata": {},
   "outputs": [],
   "source": [
    "full_w, full_h = 4552, 2276 \n",
    "\n",
    "hop_all = []\n",
    "hop_sen = []\n",
    "\n",
    "hop_list = {\n",
    "  '0->1':[],\n",
    "  '1->2':[],\n",
    "  '2->3':[],\n",
    "  '3->4':[]\n",
    "}\n",
    "for h in data:\n",
    "  hop = 0\n",
    "  if len(h['actions']) < 1:\n",
    "    continue\n",
    "\n",
    "  \n",
    "  for ii, inst in enumerate(h['actions'][0]['action_list'].split('_')):\n",
    "    n = len(inst.split('|')[1:])\n",
    "    hop_sen += [n]\n",
    "    hop += n\n",
    "    \n",
    "    first_x, first_y = -1,-1\n",
    "    for jj, fov in enumerate(inst.split('|')[1:]):\n",
    "      lat, lng = float(fov.split(',')[0]), float(fov.split(',')[1])\n",
    "      lat, lng = rad2degree(lat, lng)\n",
    "      \n",
    "      fx = int(full_w * ((lat + 180)/360.0))\n",
    "      fy = int(full_h - full_h * ((lng + 90)/180.0))\n",
    "      \n",
    "      if first_x < 0:\n",
    "        first_x, first_y = fx, fy\n",
    "    if ii >= 1:\n",
    "      d = ((first_x - prev_x)**2 + (first_y - prev_y)**2)**0.5\n",
    "      hop_list['{}->{}'.format(ii-1,ii)] += [d]\n",
    "    prev_x, prev_y = first_x, first_y\n",
    "  hop_all += [hop]"
   ]
  },
  {
   "cell_type": "code",
   "execution_count": null,
   "metadata": {},
   "outputs": [],
   "source": [
    "lists = [hop_sen,hop_all]\n",
    "labels = ['Per Instruction','Per Instruction Sequence'] "
   ]
  },
  {
   "cell_type": "code",
   "execution_count": null,
   "metadata": {},
   "outputs": [],
   "source": [
    "nrow = len(lists)\n",
    "ncols = 1\n",
    "fig, axs = plt.subplots(nrows=nrow, ncols=ncols, figsize=(10,4*nrow))\n",
    "fig.subplots_adjust(hspace = 1 ) \n",
    "\n",
    "jj =0\n",
    "FONTSIZE=18\n",
    "BINS=40\n",
    "MAX = 40\n",
    "for ii, l in enumerate(lists):\n",
    "  axs[ii].hist(np.array(l), density = False, bins = BINS, range = (0,MAX),  alpha=0.4, label='# of instances')\n",
    "  axs[ii].set_title('{}'.format(labels[ii]), fontsize=FONTSIZE)\n",
    "  axs[ii].set_xticks(np.arange(MAX))\n",
    "  axs[ii].set_xticklabels(np.arange(MAX), rotation='vertical', fontsize=FONTSIZE/2)\n",
    "  print(np.mean(l),np.min(l),np.max(l),np.median(l))\n",
    "      \n",
    "plt.legend( prop={'size': FONTSIZE})\n",
    "plt.rc('xtick',labelsize=FONTSIZE)\n",
    "plt.rc('ytick',labelsize=FONTSIZE)\n",
    "plt.show() "
   ]
  },
  {
   "cell_type": "code",
   "execution_count": null,
   "metadata": {},
   "outputs": [],
   "source": [
    "fig = plt.figure()\n",
    "\n",
    "labels = ['3->4', '2->3','1->2','0->1'][::-1]\n",
    "x = np.arange(len(hop_list))\n",
    "y = [ np.mean(hop_list[k]) for k in labels ]\n",
    "yerr = [ np.std(hop_list[k]) for k in labels ]\n",
    "\n",
    "plt.errorbar(x, y, yerr=yerr, uplims=True, lolims=True,\n",
    "             label='uplims=True, lolims=True')\n",
    "plt.title('{}'.format('Pixel Distance Between Successive Hops'), fontsize=FONTSIZE)\n",
    "plt.xticks(x,labels, rotation='vertical', fontsize=FONTSIZE)\n",
    "plt.show()"
   ]
  },
  {
   "cell_type": "code",
   "execution_count": null,
   "metadata": {},
   "outputs": [],
   "source": [
    "full_w, full_h = 4552, 2276\n",
    "from random import randint\n",
    "\n",
    "dists = []\n",
    "for h in data:\n",
    "  hop = 0\n",
    "  if len(h['actions']) < 1:\n",
    "    continue\n",
    "  lat, lng = rad2degree(h['longitude'],h['latitude'])\n",
    "  fx = int(full_w * ((lat + 180)/360.0))\n",
    "  fy = int(full_h - full_h * ((lng + 90)/180.0))\n",
    "  x = randint(0,full_w)\n",
    "  y = randint(0,full_h)\n",
    "  \n",
    "  dist = ((fx - x)**2 + (fy - y)**2)**0.5\n",
    "  dists += [dist]\n",
    "  \n",
    "print(np.mean(dists), np.mean(np.array(dists) < 40 ), len(dists))\n",
    "  "
   ]
  },
  {
   "cell_type": "code",
   "execution_count": null,
   "metadata": {},
   "outputs": [],
   "source": []
  }
 ],
 "metadata": {
  "kernelspec": {
   "display_name": "Python3 Refer360sim",
   "language": "python",
   "name": "refer360sim"
  },
  "language_info": {
   "codemirror_mode": {
    "name": "ipython",
    "version": 2
   },
   "file_extension": ".py",
   "mimetype": "text/x-python",
   "name": "python",
   "nbconvert_exporter": "python",
   "pygments_lexer": "ipython2",
   "version": "2.7.16"
  }
 },
 "nbformat": 4,
 "nbformat_minor": 2
}
